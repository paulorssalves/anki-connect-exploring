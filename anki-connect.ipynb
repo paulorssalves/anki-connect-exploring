{
    "cells": [
        {
            "cell_type": "code",
            "execution_count": 131,
            "metadata": {},
            "outputs": [],
            "source": [
                "# VER TODO-LIST em README.md\n",
                "import json\n",
                "import urllib.request\n",
                "from toolset import (get_examples, get_frequency,\n",
                "                    get_text, get_tokens)\n",
                "from cltk import NLP\n",
                "from cltk.lemmatize.grc import GreekBackoffLemmatizer\n",
                "lemmatizer = GreekBackoffLemmatizer()\n",
                "\n",
                "from cltk.alphabet.text_normalization import cltk_normalize"
            ]
        },
        {
            "cell_type": "code",
            "execution_count": 8,
            "metadata": {},
            "outputs": [
                {
                    "name": "stdout",
                    "output_type": "stream",
                    "text": [
                        "‎𐤀 CLTK version '1.0.24'.\n",
                        "Pipeline for language 'Ancient Greek' (ISO: 'grc'): `GreekNormalizeProcess`, `GreekStanzaProcess`, `GreekEmbeddingsProcess`, `StopsProcess`, `GreekNERProcess`.\n"
                    ]
                }
            ],
            "source": [
                "creed, wf = get_text(\"creed.txt\")\n",
                "tokens, token_set, phrases = get_tokens(creed)\n",
                "frequency = get_frequency(tokens)\n",
                "cltk_nlp = NLP(language=\"grc\")\n",
                "cltk_doc = cltk_nlp.analyze(creed)\n",
                "\n",
                "wordlist = []\n",
                "for pair in frequency:\n",
                "    token = pair[0]\n",
                "    wordlist.append(token)"
            ]
        },
        {
            "cell_type": "code",
            "execution_count": 10,
            "metadata": {},
            "outputs": [],
            "source": [
                "def request(action, **params):\n",
                "    return {'action': action,\n",
                "            'params': params,\n",
                "            'version': 6}\n",
                "\n",
                "def invoke(action, **params):\n",
                "    requestJson = json.dumps(request(action, **params)).encode('utf-8')\n",
                "    response = json.load(urllib.request.urlopen(urllib.request.Request('http://localhost:8765', requestJson)))\n",
                "\n",
                "    if len(response) != 2:\n",
                "        raise Exception('response has an unexpected number of fields')\n",
                "\n",
                "    if 'error' not in response:\n",
                "        raise Exception('response is missing required error field')\n",
                "    \n",
                "    if 'result' not in response:\n",
                "        raise Exception('response is missing required result field')\n",
                "\n",
                "    if response['error'] is not None:\n",
                "        raise Exception(response['error'])\n",
                "\n",
                "    return response['result']\n",
                "\n",
                "noteIDs = invoke('findNotes', query='deck:Liturgia')\n",
                "notesInfo = invoke('notesInfo', notes=noteIDs)"
            ]
        },
        {
            "cell_type": "code",
            "execution_count": 37,
            "metadata": {},
            "outputs": [],
            "source": [
                "notes = []\n",
                "for card in notesInfo:\n",
                "    notes.append(cltk_normalize(card['fields']['Word']['value']))\n",
                "fwl = [cltk_normalize(word) for word in wordlist if word not in notes]\n",
                "notes_group = lemmatizer.lemmatize(notes)\n",
                "fwl_group = lemmatizer.lemmatize(fwl)"
            ]
        },
        {
            "cell_type": "code",
            "execution_count": 51,
            "metadata": {},
            "outputs": [],
            "source": [
                "notes_lemmas = set([tuple[1] for tuple in notes_group])\n",
                "fwl_lemmas = set([tuple[1] for tuple in fwl_group])"
            ]
        },
        {
            "cell_type": "code",
            "execution_count": 130,
            "metadata": {},
            "outputs": [
                {
                    "data": {
                        "text/plain": [
                            "{'Γραφάς',\n",
                            " 'Εἰς',\n",
                            " 'Θεοῦ',\n",
                            " 'Θεόν',\n",
                            " 'Θεὸν',\n",
                            " 'Κύριον',\n",
                            " 'Μαρίας',\n",
                            " 'Παρθένου',\n",
                            " 'Πατέρα',\n",
                            " 'Πατρί',\n",
                            " 'Πατρὶ',\n",
                            " 'Πατρὸς',\n",
                            " 'Πιλάτου',\n",
                            " 'Πιστεύω',\n",
                            " 'Πνεύματος',\n",
                            " 'Πνεῦμα',\n",
                            " 'Ποντίου',\n",
                            " 'Προσδοκῶ',\n",
                            " 'Προφητῶν',\n",
                            " 'Σταυρωθέντα',\n",
                            " 'Τὸν',\n",
                            " 'Υἱὸν',\n",
                            " 'Υἱῷ',\n",
                            " 'Φῶς',\n",
                            " 'Χριστόν',\n",
                            " 'αἰών',\n",
                            " 'βάπτισμα',\n",
                            " 'βασιλεία',\n",
                            " 'γίγνομαι',\n",
                            " 'γεννάω',\n",
                            " 'δεξιός',\n",
                            " 'δι ̓',\n",
                            " 'δόξα',\n",
                            " 'εἰμί',\n",
                            " 'εἷς',\n",
                            " 'ζάω',\n",
                            " 'ζωή',\n",
                            " 'ζωοποιός',\n",
                            " 'θάπτω',\n",
                            " 'καί',\n",
                            " 'καθολικὴν',\n",
                            " 'κατά',\n",
                            " 'κατάἕζομαι',\n",
                            " 'κατέρχομαι',\n",
                            " 'κρίνω',\n",
                            " 'κύριος',\n",
                            " 'λαλέω',\n",
                            " 'μέλλω',\n",
                            " 'μετά',\n",
                            " 'μονογενής',\n",
                            " 'νεκρός',\n",
                            " 'οὐρανός',\n",
                            " 'οὐ',\n",
                            " 'οὐρανοὺς',\n",
                            " 'οὐρανός',\n",
                            " 'πάλιν',\n",
                            " 'πάσχω',\n",
                            " 'παντοκράτωρ',\n",
                            " 'ποιέω',\n",
                            " 'ποιητής',\n",
                            " 'πρό',\n",
                            " 'πᾶς',\n",
                            " 'σαρκόω',\n",
                            " 'συνδοξάζω',\n",
                            " 'σωτηρία',\n",
                            " 'σύν',\n",
                            " 'σύν,πρόσκυνάω',\n",
                            " 'τέλος',\n",
                            " 'τε',\n",
                            " 'τρίτος',\n",
                            " 'φώς',\n",
                            " 'ἀληθινός',\n",
                            " 'ἀνάστασις',\n",
                            " 'ἀνέρχομαι',\n",
                            " 'ἀνίστημι',\n",
                            " 'ἀποστολικὴν',\n",
                            " 'ἀόρατος',\n",
                            " 'ἁμαρτία',\n",
                            " 'ἄνθρωπος',\n",
                            " 'ἄφεσις',\n",
                            " 'ἅγιος',\n",
                            " 'Ἀμήν',\n",
                            " 'Ἁγίου',\n",
                            " 'Ἅγιον',\n",
                            " 'ἐκ',\n",
                            " 'ἐκπορεύω',\n",
                            " 'ἐνανθρωπέω',\n",
                            " 'ἔρχομαι',\n",
                            " 'Ἐκκλησίαν',\n",
                            " 'ἡμέτερος',\n",
                            " 'ἵημι',\n",
                            " 'Ἰησοῦν',\n",
                            " 'ὁμοούσιος',\n",
                            " 'ὁρατός',\n",
                            " 'Ὁμολογῶ',\n",
                            " 'ὑπέρ'}"
                        ]
                    },
                    "execution_count": 130,
                    "metadata": {},
                    "output_type": "execute_result"
                }
            ],
            "source": [
                "filtered_fwl_lemmas = [word for word in fwl_lemmas if word not in notes_lemmas]\n",
                "reworked_fwl = [tuple for tuple in fwl_group if tuple[1] in filtered_fwl_lemmas]\n",
                "fwl_lemmas"
            ]
        },
        {
            "cell_type": "code",
            "execution_count": 60,
            "metadata": {},
            "outputs": [],
            "source": [
                "import pandas as pd\n",
                "\n",
                "df = pd.DataFrame(reworked_fwl)\n",
                "df.to_csv(\"output.csv\", encoding=\"utf-8\", header=None)\n"
            ]
        },
        {
            "cell_type": "code",
            "execution_count": 123,
            "metadata": {},
            "outputs": [],
            "source": [
                "new_df = pd.read_csv(\"filtered.csv\", header=None, index_col=0)\n",
                "repeats = []\n",
                "for item in new_df.iterrows():\n",
                "    if item[0] == item[1][1]:\n",
                "        repeats.append(item[0])"
            ]
        },
        {
            "cell_type": "code",
            "execution_count": 124,
            "metadata": {},
            "outputs": [],
            "source": [
                "final_list = []\n",
                "for item in new_df.iterrows():\n",
                "    if item[0] in repeats:\n",
                "        final_list.append(item[0])\n",
                "    else:\n",
                "        final_list.append((item[0], item[1][1]))"
            ]
        },
        {
            "cell_type": "code",
            "execution_count": 128,
            "metadata": {},
            "outputs": [
                {
                    "data": {
                        "text/plain": [
                            "['Πιστεύω',\n",
                            " ('παντοκράτορα', 'παντοκράτωρ'),\n",
                            " ('ποιητὴν', 'ποιητής'),\n",
                            " ('ὁρατῶν', 'ὁρατός'),\n",
                            " ('ἀοράτων', 'ἀόρατος'),\n",
                            " ('μονογενῆ', 'μονογενής'),\n",
                            " ('ἀληθινὸν', 'ἀληθινός'),\n",
                            " 'οὐ',\n",
                            " ('ὁμοούσιον', 'ὁμοούσιος'),\n",
                            " ('πάντα', 'πᾶς'),\n",
                            " ('ἡμετέραν', 'ἡμέτερος'),\n",
                            " ('σωτηρίαν', 'σωτηρία'),\n",
                            " ('κατελθόντα', 'κατέρχομαι'),\n",
                            " ('σαρκωθέντα', 'σαρκόω'),\n",
                            " 'Παρθένου',\n",
                            " ('ἐνανθρωπήσαντα', 'ἐνανθρωπέω'),\n",
                            " 'Σταυρωθέντα',\n",
                            " ('ὑπὲρ', 'ὑπέρ'),\n",
                            " 'Ποντίου',\n",
                            " 'Πιλάτου',\n",
                            " ('παθόντα', 'πάσχω'),\n",
                            " ('ταφέντα', 'θάπτω'),\n",
                            " ('ἀναστάντα', 'ἀνίστημι'),\n",
                            " ('τρίτῃ', 'τρίτος'),\n",
                            " 'Γραφάς',\n",
                            " ('ἀνελθόντα', 'ἀνέρχομαι'),\n",
                            " 'οὐρανοὺς',\n",
                            " ('καθεζόμενον', 'κατάἕζομαι'),\n",
                            " 'πάλιν',\n",
                            " ('μετὰ', 'μετά'),\n",
                            " ('κρῖναι', 'κρίνω'),\n",
                            " ('ζῶντας', 'ζάω'),\n",
                            " ('νεκρούς', 'νεκρός'),\n",
                            " ('βασιλείας', 'βασιλεία'),\n",
                            " ('οὐκ', 'οὐ'),\n",
                            " 'τέλος',\n",
                            " ('ζωοποιόν', 'ζωοποιός'),\n",
                            " ('ἐκπορευόμενον', 'ἐκπορεύω'),\n",
                            " ('σὺν', 'σύν'),\n",
                            " ('συμπροσκυνούμενον', 'σύν,πρόσκυνάω'),\n",
                            " ('συνδοξαζόμενον', 'συνδοξάζω'),\n",
                            " ('λαλῆσαν', 'λαλέω'),\n",
                            " 'Προφητῶν',\n",
                            " ('μίαν', 'εἷς'),\n",
                            " 'καθολικὴν',\n",
                            " 'ἀποστολικὴν',\n",
                            " 'Ἐκκλησίαν',\n",
                            " 'Ὁμολογῶ',\n",
                            " 'βάπτισμα',\n",
                            " ('ἄφεσιν', 'ἄφεσις'),\n",
                            " ('ἁμαρτιῶν', 'ἁμαρτία'),\n",
                            " 'Προσδοκῶ',\n",
                            " ('ἀνάστασιν', 'ἀνάστασις'),\n",
                            " ('νεκρῶν', 'νεκρός'),\n",
                            " ('ζωὴν', 'ζωή'),\n",
                            " ('μέλλοντος', 'μέλλω'),\n",
                            " ('ἕνα', 'εἷς'),\n",
                            " 'τε',\n",
                            " ('πάντων', 'πᾶς'),\n",
                            " ('γεννηθέντα', 'γεννάω'),\n",
                            " 'δι ̓',\n",
                            " ('οὗ', 'ἵημι'),\n",
                            " 'ἐκ']"
                        ]
                    },
                    "execution_count": 128,
                    "metadata": {},
                    "output_type": "execute_result"
                }
            ],
            "source": [
                "final_list"
            ]
        },
        {
            "cell_type": "code",
            "execution_count": null,
            "metadata": {},
            "outputs": [],
            "source": []
        }
    ],
    "metadata": {
        "interpreter": {
            "hash": "916dbcbb3f70747c44a77c7bcd40155683ae19c65e1c03b4aa3499c5328201f1"
        },
        "kernelspec": {
            "display_name": "Python 3.7.3 64-bit",
            "name": "python3"
        },
        "language_info": {
            "codemirror_mode": {
                "name": "ipython",
                "version": 3
            },
            "file_extension": ".py",
            "mimetype": "text/x-python",
            "name": "python",
            "nbconvert_exporter": "python",
            "pygments_lexer": "ipython3",
            "version": "3.7.3"
        },
        "orig_nbformat": 4
    },
    "nbformat": 4,
    "nbformat_minor": 2
}
