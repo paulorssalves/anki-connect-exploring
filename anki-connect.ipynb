{
    "cells": [
        {
            "cell_type": "code",
            "execution_count": 22,
            "metadata": {},
            "outputs": [],
            "source": [
                "import json\n",
                "import urllib.request\n",
                "from toolset import (get_examples, get_frequency,\n",
                "                    get_text, get_tokens)\n",
                "from cltk import NLP\n",
                "from cltk.lemmatize.grc import GreekBackoffLemmatizer\n",
                "lemmatizer = GreekBackoffLemmatizer()\n",
                "\n",
                "from cltk.alphabet.text_normalization import cltk_normalize"
            ]
        },
        {
            "cell_type": "code",
            "execution_count": 8,
            "metadata": {},
            "outputs": [
                {
                    "name": "stdout",
                    "output_type": "stream",
                    "text": [
                        "‎𐤀 CLTK version '1.0.24'.\n",
                        "Pipeline for language 'Ancient Greek' (ISO: 'grc'): `GreekNormalizeProcess`, `GreekStanzaProcess`, `GreekEmbeddingsProcess`, `StopsProcess`, `GreekNERProcess`.\n"
                    ]
                }
            ],
            "source": [
                "creed, wf = get_text(\"creed.txt\")\n",
                "tokens, token_set, phrases = get_tokens(creed)\n",
                "frequency = get_frequency(tokens)\n",
                "cltk_nlp = NLP(language=\"grc\")\n",
                "cltk_doc = cltk_nlp.analyze(creed)\n",
                "\n",
                "wordlist = []\n",
                "for pair in frequency:\n",
                "    token = pair[0]\n",
                "    wordlist.append(token)"
            ]
        },
        {
            "cell_type": "code",
            "execution_count": 10,
            "metadata": {},
            "outputs": [],
            "source": [
                "def request(action, **params):\n",
                "    return {'action': action,\n",
                "            'params': params,\n",
                "            'version': 6}\n",
                "\n",
                "def invoke(action, **params):\n",
                "    requestJson = json.dumps(request(action, **params)).encode('utf-8')\n",
                "    response = json.load(urllib.request.urlopen(urllib.request.Request('http://localhost:8765', requestJson)))\n",
                "\n",
                "    if len(response) != 2:\n",
                "        raise Exception('response has an unexpected number of fields')\n",
                "\n",
                "    if 'error' not in response:\n",
                "        raise Exception('response is missing required error field')\n",
                "    \n",
                "    if 'result' not in response:\n",
                "        raise Exception('response is missing required result field')\n",
                "\n",
                "    if response['error'] is not None:\n",
                "        raise Exception(response['error'])\n",
                "\n",
                "    return response['result']\n",
                "\n",
                "noteIDs = invoke('findNotes', query='deck:Liturgia')\n",
                "notesInfo = invoke('notesInfo', notes=noteIDs)"
            ]
        },
        {
            "cell_type": "code",
            "execution_count": 37,
            "metadata": {},
            "outputs": [],
            "source": [
                "notes = []\n",
                "for card in notesInfo:\n",
                "    notes.append(cltk_normalize(card['fields']['Word']['value']))\n",
                "fwl = [cltk_normalize(word) for word in wordlist if word not in notes]\n",
                "notes_group = lemmatizer.lemmatize(notes)\n",
                "fwl_group = lemmatizer.lemmatize(fwl)"
            ]
        },
        {
            "cell_type": "code",
            "execution_count": 51,
            "metadata": {},
            "outputs": [],
            "source": [
                "notes_lemmas = set([tuple[1] for tuple in notes_group])\n",
                "fwl_lemmas = set([tuple[1] for tuple in fwl_group])"
            ]
        },
        {
            "cell_type": "code",
            "execution_count": 45,
            "metadata": {},
            "outputs": [],
            "source": [
                "filtered_fwl_lemmas = [word for word in fwl_lemmas if word not in notes_lemmas]\n",
                "reworked_fwl = [tuple for tuple in fwl_group if tuple[1] in filtered_fwl_lemmas]"
            ]
        },
        {
            "cell_type": "code",
            "execution_count": 55,
            "metadata": {},
            "outputs": [
                {
                    "data": {
                        "text/plain": [
                            "[('Πιστεύω', 'Πιστεύω'),\n",
                            " ('Θεόν', 'Θεόν'),\n",
                            " ('Πατέρα', 'Πατέρα'),\n",
                            " ('παντοκράτορα', 'παντοκράτωρ'),\n",
                            " ('ποιητὴν', 'ποιητής'),\n",
                            " ('οὐρανοῦ', 'οὐρανός'),\n",
                            " ('ὁρατῶν', 'ὁρατός'),\n",
                            " ('ἀοράτων', 'ἀόρατος'),\n",
                            " ('Κύριον', 'Κύριον'),\n",
                            " ('Ἰησοῦν', 'Ἰησοῦν'),\n",
                            " ('Χριστόν', 'Χριστόν'),\n",
                            " ('Υἱὸν', 'Υἱὸν'),\n",
                            " ('μονογενῆ', 'μονογενής'),\n",
                            " ('πρὸ', 'πρό'),\n",
                            " ('Φῶς', 'Φῶς'),\n",
                            " ('Θεὸν', 'Θεὸν'),\n",
                            " ('ἀληθινὸν', 'ἀληθινός'),\n",
                            " ('ἀληθινοῦ', 'ἀληθινός'),\n",
                            " ('οὐ', 'οὐ'),\n",
                            " ('ὁμοούσιον', 'ὁμοούσιος'),\n",
                            " ('Πατρί', 'Πατρί'),\n",
                            " ('πάντα', 'πᾶς'),\n",
                            " ('Τὸν', 'Τὸν'),\n",
                            " ('ἡμετέραν', 'ἡμέτερος'),\n",
                            " ('σωτηρίαν', 'σωτηρία'),\n",
                            " ('κατελθόντα', 'κατέρχομαι'),\n",
                            " ('οὐρανῶν', 'οὐρανός'),\n",
                            " ('σαρκωθέντα', 'σαρκόω'),\n",
                            " ('Πνεύματος', 'Πνεύματος'),\n",
                            " ('Ἁγίου', 'Ἁγίου'),\n",
                            " ('Μαρίας', 'Μαρίας'),\n",
                            " ('Παρθένου', 'Παρθένου'),\n",
                            " ('ἐνανθρωπήσαντα', 'ἐνανθρωπέω'),\n",
                            " ('Σταυρωθέντα', 'Σταυρωθέντα'),\n",
                            " ('ὑπὲρ', 'ὑπέρ'),\n",
                            " ('Ποντίου', 'Ποντίου'),\n",
                            " ('Πιλάτου', 'Πιλάτου'),\n",
                            " ('παθόντα', 'πάσχω'),\n",
                            " ('ταφέντα', 'θάπτω'),\n",
                            " ('ἀναστάντα', 'ἀνίστημι'),\n",
                            " ('τρίτῃ', 'τρίτος'),\n",
                            " ('Γραφάς', 'Γραφάς'),\n",
                            " ('ἀνελθόντα', 'ἀνέρχομαι'),\n",
                            " ('οὐρανοὺς', 'οὐρανοὺς'),\n",
                            " ('καθεζόμενον', 'κατάἕζομαι'),\n",
                            " ('πάλιν', 'πάλιν'),\n",
                            " ('μετὰ', 'μετά'),\n",
                            " ('κρῖναι', 'κρίνω'),\n",
                            " ('ζῶντας', 'ζάω'),\n",
                            " ('νεκρούς', 'νεκρός'),\n",
                            " ('βασιλείας', 'βασιλεία'),\n",
                            " ('οὐκ', 'οὐ'),\n",
                            " ('τέλος', 'τέλος'),\n",
                            " ('Πνεῦμα', 'Πνεῦμα'),\n",
                            " ('Ἅγιον', 'Ἅγιον'),\n",
                            " ('κύριον', 'κύριος'),\n",
                            " ('ζωοποιόν', 'ζωοποιός'),\n",
                            " ('ἐκπορευόμενον', 'ἐκπορεύω'),\n",
                            " ('σὺν', 'σύν'),\n",
                            " ('Πατρὶ', 'Πατρὶ'),\n",
                            " ('Υἱῷ', 'Υἱῷ'),\n",
                            " ('συμπροσκυνούμενον', 'σύν,πρόσκυνάω'),\n",
                            " ('συνδοξαζόμενον', 'συνδοξάζω'),\n",
                            " ('λαλῆσαν', 'λαλέω'),\n",
                            " ('Προφητῶν', 'Προφητῶν'),\n",
                            " ('Εἰς', 'Εἰς'),\n",
                            " ('μίαν', 'εἷς'),\n",
                            " ('ἁγίαν', 'ἅγιος'),\n",
                            " ('καθολικὴν', 'καθολικὴν'),\n",
                            " ('ἀποστολικὴν', 'ἀποστολικὴν'),\n",
                            " ('Ἐκκλησίαν', 'Ἐκκλησίαν'),\n",
                            " ('Ὁμολογῶ', 'Ὁμολογῶ'),\n",
                            " ('ἓν', 'εἷς'),\n",
                            " ('βάπτισμα', 'βάπτισμα'),\n",
                            " ('ἄφεσιν', 'ἄφεσις'),\n",
                            " ('ἁμαρτιῶν', 'ἁμαρτία'),\n",
                            " ('Προσδοκῶ', 'Προσδοκῶ'),\n",
                            " ('ἀνάστασιν', 'ἀνάστασις'),\n",
                            " ('νεκρῶν', 'νεκρός'),\n",
                            " ('ζωὴν', 'ζωή'),\n",
                            " ('μέλλοντος', 'μέλλω'),\n",
                            " ('Ἀμήν', 'Ἀμήν'),\n",
                            " ('ἕνα', 'εἷς'),\n",
                            " ('τε', 'τε'),\n",
                            " ('πάντων', 'πᾶς'),\n",
                            " ('Θεοῦ', 'Θεοῦ'),\n",
                            " ('Πατρὸς', 'Πατρὸς'),\n",
                            " ('γεννηθέντα', 'γεννάω'),\n",
                            " ('δι ̓', 'δι ̓'),\n",
                            " ('οὗ', 'ἵημι'),\n",
                            " ('ἐκ', 'ἐκ')]"
                        ]
                    },
                    "execution_count": 55,
                    "metadata": {},
                    "output_type": "execute_result"
                }
            ],
            "source": [
                "import pandas as pd\n",
                "reworked_fwl"
            ]
        }
    ],
    "metadata": {
        "interpreter": {
            "hash": "916dbcbb3f70747c44a77c7bcd40155683ae19c65e1c03b4aa3499c5328201f1"
        },
        "kernelspec": {
            "display_name": "Python 3.7.3 64-bit",
            "name": "python3"
        },
        "language_info": {
            "codemirror_mode": {
                "name": "ipython",
                "version": 3
            },
            "file_extension": ".py",
            "mimetype": "text/x-python",
            "name": "python",
            "nbconvert_exporter": "python",
            "pygments_lexer": "ipython3",
            "version": "3.7.3"
        },
        "orig_nbformat": 4
    },
    "nbformat": 4,
    "nbformat_minor": 2
}
