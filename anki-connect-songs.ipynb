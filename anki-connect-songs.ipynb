{
    "cells": [
        {
            "cell_type": "code",
            "execution_count": 1,
            "metadata": {},
            "outputs": [],
            "source": [
                "# VER TODO-LIST em README.md\n",
                "import re, os, string\n",
                "import pandas as pd\n",
                "import json, time, urllib.request\n",
                "from tools.tokenization import (get_examples, get_frequency,\n",
                "                    get_text, get_tokens)\n",
                "from requests.exceptions import MissingSchema"
            ]
        },
        {
            "cell_type": "code",
            "execution_count": 2,
            "metadata": {},
            "outputs": [],
            "source": [
                "from cltk import NLP\n",
                "from cltk.lemmatize.grc import GreekBackoffLemmatizer\n",
                "lemmatizer = GreekBackoffLemmatizer()\n",
                "\n",
                "from cltk.alphabet.text_normalization import cltk_normalize"
            ]
        },
        {
            "cell_type": "code",
            "execution_count": 3,
            "metadata": {},
            "outputs": [],
            "source": [
                "from tools.wordstruct import Word as WikWord\n",
                "from tools.scraper import Word as BibleWord\n",
                "from tools.scraper import get_link, get_entry_soup, get_word_data, fetch_group_as_string, BASE_URL"
            ]
        },
        {
            "cell_type": "code",
            "execution_count": 4,
            "metadata": {},
            "outputs": [],
            "source": [
                "# ways to perfect this function:\n",
                "# check whether the first word in the concordance example is it\n",
                "# if not, cut off this word (so as to remove incomplete words)\n",
                "# do the same to the last word of the sentence\n",
                "\n",
                "def boldify_selected_word(word, string):\n",
                "    string_l = string.split()\n",
                "    for index in range(len(string_l)):\n",
                "        if string_l[index] == word:\n",
                "            bold = \"<b>\"+word+\"</b>\"\n",
                "            string_l[index] = bold \n",
                "    return string_l, bold\n",
                "\n",
                "def get_context_and_clean_up(word, concordance):\n",
                "\n",
                "    # get word context from concordance\n",
                "    c = concordance.concordance_list(cltk_normalize(word))\n",
                "\n",
                "    # split string and make chosen word bold\n",
                "    line, bold_word = boldify_selected_word(cltk_normalize(word), c[0][6])\n",
                "    word_list = line\n",
                "\n",
                "    # remove first and last words of string, as they are sometimes incomplete\n",
                "    # and assert that the first and last \n",
                "    if word_list[0] not in (word, bold_word):\n",
                "        del word_list[0]\n",
                "        if word_list[0] in string.punctuation:\n",
                "            del word_list[0] \n",
                "    if word_list[len(word_list) - 1] not in (word, bold_word):\n",
                "        del word_list[len(word_list) - 1]\n",
                "\n",
                "    # get string with extra spaces\n",
                "    unfinished_string = \" \".join(word_list)\n",
                "    \n",
                "    # remove unnecessary spaces from string\n",
                "    trailing_spaces_start = r\"^\\s+\"\n",
                "    trailing_spaces_end = r\"\\s+$\"\n",
                "\n",
                "    cleaned_up_pre = re.sub(r'\\s([?.!,:;\"](?:\\s|$))', r'\\1', unfinished_string)\n",
                "    cleaned_up_start = re.sub(trailing_spaces_start, \"\", cleaned_up_pre)\n",
                "    final_string = re.sub(trailing_spaces_end, \"\", cleaned_up_start)\n",
                "    \n",
                "    return final_string\n",
                "\n",
                "def clean_up(string):\n",
                "    trailing_spaces_start = r\"^\\s+\"\n",
                "    trailing_spaces_end = r\"\\s+$\"\n",
                "\n",
                "    cleaned_up_pre = re.sub(r'([?.!,:;\"](?:\\s|$))', \"\", string.split()[0])\n",
                "    cleaned_up_start = re.sub(trailing_spaces_start, \"\", cleaned_up_pre)\n",
                "    cleaned_up = re.sub(trailing_spaces_end, \"\", cleaned_up_start)\n",
                "\n",
                "    return cleaned_up"
            ]
        },
        {
            "cell_type": "code",
            "execution_count": 37,
            "metadata": {},
            "outputs": [
                {
                    "name": "stdout",
                    "output_type": "stream",
                    "text": [
                        "‎𐤀 CLTK version '1.0.23'.\n",
                        "Pipeline for language 'Ancient Greek' (ISO: 'grc'): `GreekNormalizeProcess`, `GreekStanzaProcess`, `GreekEmbeddingsProcess`, `StopsProcess`, `GreekNERProcess`.\n"
                    ]
                }
            ],
            "source": [
                "songs, wf = get_text(\"textos/didache.txt\")\n",
                "tokens, token_set, phrases = get_tokens(songs)\n",
                "frequency = get_frequency(tokens)\n",
                "cltk_nlp = NLP(language=\"grc\")\n",
                "cltk_doc = cltk_nlp.analyze(songs)\n",
                "\n",
                "wordlist = []\n",
                "for pair in frequency:\n",
                "    token = pair[0]\n",
                "    wordlist.append(token)"
            ]
        },
        {
            "cell_type": "code",
            "execution_count": 9,
            "metadata": {},
            "outputs": [],
            "source": [
                "def request(action, **params):\n",
                "    return {'action': action,\n",
                "            'params': params,\n",
                "            'version': 6}\n",
                "\n",
                "def invoke(action, **params):\n",
                "    requestJson = json.dumps(request(action, **params)).encode('utf-8')\n",
                "    response = json.load(urllib.request.urlopen(urllib.request.Request('http://localhost:8765', requestJson)))\n",
                "\n",
                "    if len(response) != 2:\n",
                "        raise Exception('response has an unexpected number of fields')\n",
                "\n",
                "    if 'error' not in response:\n",
                "        raise Exception('response is missing required error field')\n",
                "    \n",
                "    if 'result' not in response:\n",
                "        raise Exception('response is missing required result field')\n",
                "\n",
                "    if response['error'] is not None:\n",
                "        raise Exception(response['error'])\n",
                "\n",
                "    return response['result']\n",
                "\n",
                "noteIDs = invoke('findNotes', query='deck:Grego') \n",
                "notesInfo = invoke('notesInfo', notes=noteIDs)"
            ]
        },
        {
            "cell_type": "code",
            "execution_count": 39,
            "metadata": {},
            "outputs": [],
            "source": [
                "def get_input_for_material(wordlist, anki_cards):\n",
                "\n",
                "    notes = []\n",
                "    for card in anki_cards:\n",
                "        notes.append(cltk_normalize(clean_up(card['fields']['Word']['value'])))\n",
                "    fwl = [cltk_normalize(word) for word in wordlist if word not in notes]\n",
                "    notes_group = lemmatizer.lemmatize(notes)\n",
                "    fwl_group = lemmatizer.lemmatize(fwl)\n",
                "    notes_lemmas = set([tuple[1] for tuple in notes_group])\n",
                "    fwl_lemmas = set([tuple[1] for tuple in fwl_group])\n",
                "\n",
                "    filtered_fwl_lemmas = [word for word in fwl_lemmas if word not in notes_lemmas]\n",
                "    reworked_fwl = [tuple for tuple in fwl_group if tuple[1] in filtered_fwl_lemmas]\n",
                "\n",
                "    for i in range(len(reworked_fwl)):\n",
                "        if reworked_fwl[i][0] == reworked_fwl[i][1]:\n",
                "            reworked_fwl[i] = reworked_fwl[i][0]\n",
                "\n",
                "    return reworked_fwl\n",
                "\n",
                "reworked_fwl = get_input_for_material(wordlist, notesInfo)"
            ]
        },
        {
            "cell_type": "code",
            "execution_count": 11,
            "metadata": {},
            "outputs": [],
            "source": [
                "def fetch_bible_word(word):\n",
                "    link = get_link(BASE_URL, word)\n",
                "    soup = get_entry_soup(link)\n",
                "    word = BibleWord(get_word_data(soup))\n",
                "\n",
                "    return word"
            ]
        },
        {
            "cell_type": "markdown",
            "metadata": {},
            "source": []
        },
        {
            "cell_type": "code",
            "execution_count": 14,
            "metadata": {},
            "outputs": [],
            "source": [
                "def searcher(word):\n",
                "\n",
                "    if type(word) == tuple:\n",
                "        try:\n",
                "            bible_word = fetch_bible_word(word[0])\n",
                "            return {\"search_num\": 1, \"source\": \"BibleHub\", \"input\": word[0], \"output\": bible_word.data}\n",
                "\n",
                "        except MissingSchema:\n",
                "            try:\n",
                "                bible_word = fetch_bible_word(word[1])\n",
                "                return {\"search_num\": 2, \"source\": \"BibleHub\", \"input\": word[0], \"output\": bible_word.data}\n",
                "\n",
                "            except MissingSchema:\n",
                "\n",
                "                return {\"search_num\": 2, \"source\": None, \"input\": word[0], \"output\": None}\n",
                "                \n",
                "\n",
                "    elif type(word) == str:\n",
                "        try: \n",
                "            bible_word = fetch_bible_word(word)\n",
                "            return {\"search_num\": 1, \"source\": \"BibleHub\", \"input\": word, \"output\": bible_word.data}\n",
                "\n",
                "        except:\n",
                "                return {\"search_num\": 1, \"source\": None, \"input\": word, \"output\": None}\n",
                "\n",
                "    else:\n",
                "\n",
                "        return {\"search_num\": 0, \"source\": None, \"input\": word, \"output\": None}"
            ]
        },
        {
            "cell_type": "code",
            "execution_count": null,
            "metadata": {},
            "outputs": [],
            "source": [
                "# É necessário criar alguma forma de verificar se\n",
                "# as palavras que o script adquiriu correspondem às palavras\n",
                "# do input, uma vez que as palavras obtidas do BibleHub podem ser,\n",
                "# devido ao meu algoritmo meio porco, não muito confiáveis\n",
                "\n",
                "# uma ideia interessante seria adicionar um marcador ao lado, algo como \n",
                "\n",
                "# Mais uma coisa a aperfeiçoar:\n",
                "# Se a mesma palavra já estiver presente, deixar de lado\n",
                "# não o mesmo radical, mas *a mesma palavra*\n",
                "\n",
                "def acquire_data(list, amount=None):\n",
                "\n",
                "    bible_searches = 0\n",
                "    data = []\n",
                "    blanks = []\n",
                "    already_present = []\n",
                "\n",
                "    if (amount != None) and (amount <= len(list)):\n",
                "        number = range(amount)\n",
                "    else:\n",
                "        number = range(len(list))\n",
                "\n",
                "    for index in number:\n",
                "        print(\"word no. {}: {}\".format(index+1, list[index]))\n",
                "        word_dict = searcher(list[index])\n",
                "\n",
                "        if word_dict[\"source\"] != None:\n",
                "            result = (word_dict[\"source\"], word_dict[\"input\"], word_dict[\"output\"])\n",
                "            if result[2] not in already_present:\n",
                "                data.append(result)\n",
                "            already_present.append(result[2])\n",
                "        else:\n",
                "            blanks.append(word_dict[\"input\"])\n",
                "\n",
                "        bible_searches += word_dict[\"search_num\"]\n",
                "\n",
                "        if bible_searches >= 10:\n",
                "            for n in range(60):\n",
                "                time.sleep(1)\n",
                "                print(\"Wait... {}/60\".format(n))\n",
                "                bible_searches = 0\n",
                "    \n",
                "    return data, blanks\n",
                "\n",
                "data, blanks = acquire_data(reworked_fwl)"
            ]
        },
        {
            "cell_type": "code",
            "execution_count": 20,
            "metadata": {},
            "outputs": [
                {
                    "ename": "NameError",
                    "evalue": "name 'data' is not defined",
                    "output_type": "error",
                    "traceback": [
                        "\u001b[0;31m---------------------------------------------------------------------------\u001b[0m",
                        "\u001b[0;31mNameError\u001b[0m                                 Traceback (most recent call last)",
                        "\u001b[0;32m<ipython-input-20-caf09ea944d8>\u001b[0m in \u001b[0;36m<module>\u001b[0;34m()\u001b[0m\n\u001b[1;32m     39\u001b[0m                                             header=False, index=False)\n\u001b[1;32m     40\u001b[0m \u001b[0;34m\u001b[0m\u001b[0m\n\u001b[0;32m---> 41\u001b[0;31m \u001b[0mproduce_material\u001b[0m\u001b[0;34m(\u001b[0m\u001b[0;34m\"test\"\u001b[0m\u001b[0;34m,\u001b[0m \u001b[0mdata\u001b[0m\u001b[0;34m=\u001b[0m\u001b[0mdata\u001b[0m\u001b[0;34m,\u001b[0m \u001b[0mblanks\u001b[0m\u001b[0;34m=\u001b[0m\u001b[0mblanks\u001b[0m\u001b[0;34m)\u001b[0m\u001b[0;34m\u001b[0m\u001b[0;34m\u001b[0m\u001b[0m\n\u001b[0m",
                        "\u001b[0;31mNameError\u001b[0m: name 'data' is not defined"
                    ]
                }
            ],
            "source": [
                "\n",
                "def produce_material(output_file_name, data=None, blanks=None):\n",
                "    if type(output_file_name) is not str:\n",
                "        raise TypeError(\"variable 'output_file_name' must be of type 'str'.\")\n",
                "\n",
                "    if (data is not None) and (data != []): \n",
                "        for item in data:\n",
                "            if item[0] is not None:\n",
                "\n",
                "                print(item[1])\n",
                "\n",
                "                curr = item[2]\n",
                "                concordances = curr[\"concordances\"]\n",
                "\n",
                "                dc = {\n",
                "                    \"word\": clean_up(concordances[\"Original Word\"]),\n",
                "                    \"phonetics\": concordances[\"Phonetic Spelling\"],\n",
                "                    \"category\": concordances[\"Part of Speech\"],\n",
                "                    \"meaning\": concordances['Definition'],\n",
                "                    \"greek\": fetch_group_as_string([tuple[0] for tuple in curr['examples']], single_list=True),\n",
                "                    \"english\": fetch_group_as_string([tuple[1] for tuple in curr['examples']], single_list=True)\n",
                "                }\n",
                "                dc[\"context\"] = get_context_and_clean_up(item[1], wf)\n",
                "                dc[\"original\"] = item[1]        \n",
                "                dc[\"source\"] = item[0]        \n",
                "                # to display which word is being worked upon at the time\n",
                "\n",
                "                words_dataframe = pd.DataFrame.from_dict(dc, orient=\"index\")\n",
                "                words_dataframe = words_dataframe.transpose()\n",
                "                words_dataframe.to_csv(os.path.join(\"output\", output_file_name+\".csv\"), \n",
                "                                                    encoding=\"utf-8\", mode=\"a\", \n",
                "                                                    header=False, index=False)\n",
                "            \n",
                "    if (blanks is not None) and (blanks != []):\n",
                "        blanks_dataframe = pd.DataFrame(blanks)\n",
                "        blanks_dataframe= blanks_dataframe.transpose()\n",
                "        blanks_dataframe.to_csv(os.path.join(\"blanks\", output_file_name+\"_blanks.csv\"), \n",
                "                                            encoding=\"utf-8\", mode=\"a\", \n",
                "                                            header=False, index=False)\n",
                "\n",
                "produce_material(\"test\", data=data, blanks=blanks)"
            ]
        },
        {
            "cell_type": "code",
            "execution_count": 40,
            "metadata": {},
            "outputs": [
                {
                    "name": "stdout",
                    "output_type": "stream",
                    "text": [
                        "word no. 1: μετ ́\n",
                        "word no. 2: δύο\n",
                        "word no. 3: ἱμάτιόν\n",
                        "word no. 4: ('χιτῶνα', 'χιτών')\n",
                        "word no. 5: ('λάβῃ', 'λαμβάνω')\n",
                        "word no. 6: ('οὐδὲ', 'οὐδέ')\n"
                    ]
                }
            ],
            "source": [
                "d = acquire_data(reworked_fwl[0:6])"
            ]
        },
        {
            "cell_type": "code",
            "execution_count": 41,
            "metadata": {},
            "outputs": [
                {
                    "data": {
                        "text/plain": [
                            "([('BibleHub',\n",
                            "   'μετ ́',\n",
                            "   {'concordances': {'Original Word': 'μετά',\n",
                            "     'Part of Speech': 'Preposition',\n",
                            "     'Transliteration': 'meta',\n",
                            "     'Phonetic Spelling': \"(met-ah')\",\n",
                            "     'Definition': 'with, among, after',\n",
                            "     'Usage': '(a) gen: with, in company with, (b) acc: (1) behind, beyond, after, of place, (2) after, of time, with nouns, neut. of adjectives.'},\n",
                            "    'examples': [(\"ἐστιν μεθερμηνευόμενον Μεθ' ἡμῶν ὁ\",\n",
                            "      ' is translated With us'),\n",
                            "     (\"πᾶσα Ἰεροσόλυμα μετ' αὐτοῦ \", ' all Jerusalem with him'),\n",
                            "     ('τὸ παιδίον μετὰ Μαρίας τῆς', ' the child with Mary the')]}),\n",
                            "  ('BibleHub',\n",
                            "   'δύο',\n",
                            "   {'concordances': {'Original Word': 'δύο',\n",
                            "     'Part of Speech': 'Adjective; Indeclinable Numeral (Adjective)',\n",
                            "     'Transliteration': 'duo',\n",
                            "     'Phonetic Spelling': \"(doo'-o)\",\n",
                            "     'Definition': 'two',\n",
                            "     'Usage': 'two.'},\n",
                            "    'examples': [('εἶδεν ἄλλους δύο ἀδελφούς Ἰάκωβον',\n",
                            "      ' he saw others two brothers James'),\n",
                            "     (\"μετ' αὐτοῦ δύο \", ' with him two'),\n",
                            "     ('Οὐδεὶς δύναται δυσὶ κυρίοις δουλεύειν',\n",
                            "      ' No one is able two masters to serve')]}),\n",
                            "  ('BibleHub',\n",
                            "   'ἱμάτιόν',\n",
                            "   {'concordances': {'Original Word': 'ἱμάτιον, ου, τό',\n",
                            "     'Part of Speech': 'Noun, Neuter',\n",
                            "     'Transliteration': 'himation',\n",
                            "     'Phonetic Spelling': \"(him-at'-ee-on)\",\n",
                            "     'Definition': 'an outer garment, a cloak, robe',\n",
                            "     'Usage': ' a long flowing outer garment, tunic.'},\n",
                            "    'examples': [('ἀγνάφου ἐπὶ ἱματίῳ παλαιῷ αἴρει',\n",
                            "      ' unshrunk on clothing old tears away'),\n",
                            "     ('ἀπὸ τοῦ ἱματίου καὶ χεῖρον', ' from the garment and a worse'),\n",
                            "     ('κρασπέδου τοῦ ἱματίου αὐτοῦ ', ' fringe of the clothing of him')]}),\n",
                            "  ('BibleHub',\n",
                            "   'χιτῶνα',\n",
                            "   {'concordances': {'Original Word': 'χιτών, ῶνος, ὁ',\n",
                            "     'Part of Speech': 'Noun, Masculine',\n",
                            "     'Transliteration': 'chitón',\n",
                            "     'Phonetic Spelling': \"(khee-tone')\",\n",
                            "     'Definition': 'a tunic',\n",
                            "     'Usage': 'a tunic, garment, undergarment.'},\n",
                            "    'examples': [('μηδὲ δύο χιτῶνας μηδὲ ὑποδήματα',\n",
                            "      ' nor two tunics nor sandals'),\n",
                            "     ('ἐνδύσησθε δύο χιτῶνας ', ' put on two tunics'),\n",
                            "     ('διαρρήξας τοὺς χιτῶνας αὐτοῦ λέγει',\n",
                            "      ' having torn the garments of him says')]}),\n",
                            "  ('BibleHub',\n",
                            "   'λάβῃ',\n",
                            "   {'concordances': {'Original Word': 'λαμβάνω',\n",
                            "     'Part of Speech': 'Verb',\n",
                            "     'Transliteration': 'lambanó',\n",
                            "     'Phonetic Spelling': \"(lam-ban'-o)\",\n",
                            "     'Definition': 'to take, receive',\n",
                            "     'Usage': '(a) I receive, get, (b) I take, lay hold of.'},\n",
                            "    'examples': [('ὁ αἰτῶν λαμβάνει καὶ ὁ', ' who asks receives and he that'),\n",
                            "     ('ἀσθενείας ἡμῶν ἔλαβεν καὶ τὰς', ' infirmities of us he took and our'),\n",
                            "     ('ἐκβάλλετε δωρεὰν ἐλάβετε δωρεὰν δότε',\n",
                            "      ' cast out freely you received freely give')]}),\n",
                            "  ('BibleHub',\n",
                            "   'οὐδὲ',\n",
                            "   {'concordances': {'Original Word': 'οὐδέ',\n",
                            "     'Part of Speech': 'Conjunction,Negative',\n",
                            "     'Transliteration': 'oude',\n",
                            "     'Phonetic Spelling': \"(oo-deh')\",\n",
                            "     'Definition': 'and not, neither',\n",
                            "     'Usage': 'neither, nor, not even, and not.'},\n",
                            "    'examples': [('παραπτώματα αὐτῶν οὐδὲ ὁ πατὴρ',\n",
                            "      ' trespasses of them neither the Father'),\n",
                            "     ('οὐ διορύσσουσιν οὐδὲ κλέπτουσιν ', ' not do break in nor steal'),\n",
                            "     ('οὐ σπείρουσιν οὐδὲ θερίζουσιν οὐδὲ',\n",
                            "      ' not they sow nor do they reap nor')]})],\n",
                            " [])"
                        ]
                    },
                    "execution_count": 41,
                    "metadata": {},
                    "output_type": "execute_result"
                }
            ],
            "source": [
                "d"
            ]
        },
        {
            "cell_type": "code",
            "execution_count": 42,
            "metadata": {},
            "outputs": [
                {
                    "name": "stdout",
                    "output_type": "stream",
                    "text": [
                        "('BibleHub', 'δύο', {'concordances': {'Original Word': 'δύο', 'Part of Speech': 'Adjective; Indeclinable Numeral (Adjective)', 'Transliteration': 'duo', 'Phonetic Spelling': \"(doo'-o)\", 'Definition': 'two', 'Usage': 'two.'}, 'examples': [('εἶδεν ἄλλους δύο ἀδελφούς Ἰάκωβον', ' he saw others two brothers James'), (\"μετ' αὐτοῦ δύο \", ' with him two'), ('Οὐδεὶς δύναται δυσὶ κυρίοις δουλεύειν', ' No one is able two masters to serve')]})\n"
                    ]
                },
                {
                    "ename": "TypeError",
                    "evalue": "tuple indices must be integers or slices, not str",
                    "output_type": "error",
                    "traceback": [
                        "\u001b[0;31m---------------------------------------------------------------------------\u001b[0m",
                        "\u001b[0;31mTypeError\u001b[0m                                 Traceback (most recent call last)",
                        "\u001b[0;32m<ipython-input-42-2f0a5bbe466a>\u001b[0m in \u001b[0;36m<module>\u001b[0;34m()\u001b[0m\n\u001b[0;32m----> 1\u001b[0;31m \u001b[0mproduce_material\u001b[0m\u001b[0;34m(\u001b[0m\u001b[0;34m\"didache\"\u001b[0m\u001b[0;34m,\u001b[0m \u001b[0md\u001b[0m\u001b[0;34m)\u001b[0m\u001b[0;34m\u001b[0m\u001b[0;34m\u001b[0m\u001b[0m\n\u001b[0m",
                        "\u001b[0;32m<ipython-input-20-caf09ea944d8>\u001b[0m in \u001b[0;36mproduce_material\u001b[0;34m(output_file_name, data, blanks)\u001b[0m\n\u001b[1;32m     11\u001b[0m \u001b[0;34m\u001b[0m\u001b[0m\n\u001b[1;32m     12\u001b[0m                 \u001b[0mcurr\u001b[0m \u001b[0;34m=\u001b[0m \u001b[0mitem\u001b[0m\u001b[0;34m[\u001b[0m\u001b[0;36m2\u001b[0m\u001b[0;34m]\u001b[0m\u001b[0;34m\u001b[0m\u001b[0;34m\u001b[0m\u001b[0m\n\u001b[0;32m---> 13\u001b[0;31m                 \u001b[0mconcordances\u001b[0m \u001b[0;34m=\u001b[0m \u001b[0mcurr\u001b[0m\u001b[0;34m[\u001b[0m\u001b[0;34m\"concordances\"\u001b[0m\u001b[0;34m]\u001b[0m\u001b[0;34m\u001b[0m\u001b[0;34m\u001b[0m\u001b[0m\n\u001b[0m\u001b[1;32m     14\u001b[0m \u001b[0;34m\u001b[0m\u001b[0m\n\u001b[1;32m     15\u001b[0m                 dc = {\n",
                        "\u001b[0;31mTypeError\u001b[0m: tuple indices must be integers or slices, not str"
                    ]
                }
            ],
            "source": [
                "produce_material(\"didache\", d)"
            ]
        },
        {
            "cell_type": "code",
            "execution_count": 47,
            "metadata": {},
            "outputs": [
                {
                    "name": "stdout",
                    "output_type": "stream",
                    "text": [
                        "[('BibleHub', 'μετ ́', {'concordances': {'Original Word': 'μετά', 'Part of Speech': 'Preposition', 'Transliteration': 'meta', 'Phonetic Spelling': \"(met-ah')\", 'Definition': 'with, among, after', 'Usage': '(a) gen: with, in company with, (b) acc: (1) behind, beyond, after, of place, (2) after, of time, with nouns, neut. of adjectives.'}, 'examples': [(\"ἐστιν μεθερμηνευόμενον Μεθ' ἡμῶν ὁ\", ' is translated With us'), (\"πᾶσα Ἰεροσόλυμα μετ' αὐτοῦ \", ' all Jerusalem with him'), ('τὸ παιδίον μετὰ Μαρίας τῆς', ' the child with Mary the')]}), ('BibleHub', 'δύο', {'concordances': {'Original Word': 'δύο', 'Part of Speech': 'Adjective; Indeclinable Numeral (Adjective)', 'Transliteration': 'duo', 'Phonetic Spelling': \"(doo'-o)\", 'Definition': 'two', 'Usage': 'two.'}, 'examples': [('εἶδεν ἄλλους δύο ἀδελφούς Ἰάκωβον', ' he saw others two brothers James'), (\"μετ' αὐτοῦ δύο \", ' with him two'), ('Οὐδεὶς δύναται δυσὶ κυρίοις δουλεύειν', ' No one is able two masters to serve')]}), ('BibleHub', 'ἱμάτιόν', {'concordances': {'Original Word': 'ἱμάτιον, ου, τό', 'Part of Speech': 'Noun, Neuter', 'Transliteration': 'himation', 'Phonetic Spelling': \"(him-at'-ee-on)\", 'Definition': 'an outer garment, a cloak, robe', 'Usage': ' a long flowing outer garment, tunic.'}, 'examples': [('ἀγνάφου ἐπὶ ἱματίῳ παλαιῷ αἴρει', ' unshrunk on clothing old tears away'), ('ἀπὸ τοῦ ἱματίου καὶ χεῖρον', ' from the garment and a worse'), ('κρασπέδου τοῦ ἱματίου αὐτοῦ ', ' fringe of the clothing of him')]}), ('BibleHub', 'χιτῶνα', {'concordances': {'Original Word': 'χιτών, ῶνος, ὁ', 'Part of Speech': 'Noun, Masculine', 'Transliteration': 'chitón', 'Phonetic Spelling': \"(khee-tone')\", 'Definition': 'a tunic', 'Usage': 'a tunic, garment, undergarment.'}, 'examples': [('μηδὲ δύο χιτῶνας μηδὲ ὑποδήματα', ' nor two tunics nor sandals'), ('ἐνδύσησθε δύο χιτῶνας ', ' put on two tunics'), ('διαρρήξας τοὺς χιτῶνας αὐτοῦ λέγει', ' having torn the garments of him says')]}), ('BibleHub', 'λάβῃ', {'concordances': {'Original Word': 'λαμβάνω', 'Part of Speech': 'Verb', 'Transliteration': 'lambanó', 'Phonetic Spelling': \"(lam-ban'-o)\", 'Definition': 'to take, receive', 'Usage': '(a) I receive, get, (b) I take, lay hold of.'}, 'examples': [('ὁ αἰτῶν λαμβάνει καὶ ὁ', ' who asks receives and he that'), ('ἀσθενείας ἡμῶν ἔλαβεν καὶ τὰς', ' infirmities of us he took and our'), ('ἐκβάλλετε δωρεὰν ἐλάβετε δωρεὰν δότε', ' cast out freely you received freely give')]}), ('BibleHub', 'οὐδὲ', {'concordances': {'Original Word': 'οὐδέ', 'Part of Speech': 'Conjunction,Negative', 'Transliteration': 'oude', 'Phonetic Spelling': \"(oo-deh')\", 'Definition': 'and not, neither', 'Usage': 'neither, nor, not even, and not.'}, 'examples': [('παραπτώματα αὐτῶν οὐδὲ ὁ πατὴρ', ' trespasses of them neither the Father'), ('οὐ διορύσσουσιν οὐδὲ κλέπτουσιν ', ' not do break in nor steal'), ('οὐ σπείρουσιν οὐδὲ θερίζουσιν οὐδὲ', ' not they sow nor do they reap nor')]})]\n",
                        "[('BibleHub', 'μετ ́', {'concordances': {'Original Word': 'μετά', 'Part of Speech': 'Preposition', 'Transliteration': 'meta', 'Phonetic Spelling': \"(met-ah')\", 'Definition': 'with, among, after', 'Usage': '(a) gen: with, in company with, (b) acc: (1) behind, beyond, after, of place, (2) after, of time, with nouns, neut. of adjectives.'}, 'examples': [(\"ἐστιν μεθερμηνευόμενον Μεθ' ἡμῶν ὁ\", ' is translated With us'), (\"πᾶσα Ἰεροσόλυμα μετ' αὐτοῦ \", ' all Jerusalem with him'), ('τὸ παιδίον μετὰ Μαρίας τῆς', ' the child with Mary the')]}), ('BibleHub', 'δύο', {'concordances': {'Original Word': 'δύο', 'Part of Speech': 'Adjective; Indeclinable Numeral (Adjective)', 'Transliteration': 'duo', 'Phonetic Spelling': \"(doo'-o)\", 'Definition': 'two', 'Usage': 'two.'}, 'examples': [('εἶδεν ἄλλους δύο ἀδελφούς Ἰάκωβον', ' he saw others two brothers James'), (\"μετ' αὐτοῦ δύο \", ' with him two'), ('Οὐδεὶς δύναται δυσὶ κυρίοις δουλεύειν', ' No one is able two masters to serve')]}), ('BibleHub', 'ἱμάτιόν', {'concordances': {'Original Word': 'ἱμάτιον, ου, τό', 'Part of Speech': 'Noun, Neuter', 'Transliteration': 'himation', 'Phonetic Spelling': \"(him-at'-ee-on)\", 'Definition': 'an outer garment, a cloak, robe', 'Usage': ' a long flowing outer garment, tunic.'}, 'examples': [('ἀγνάφου ἐπὶ ἱματίῳ παλαιῷ αἴρει', ' unshrunk on clothing old tears away'), ('ἀπὸ τοῦ ἱματίου καὶ χεῖρον', ' from the garment and a worse'), ('κρασπέδου τοῦ ἱματίου αὐτοῦ ', ' fringe of the clothing of him')]}), ('BibleHub', 'χιτῶνα', {'concordances': {'Original Word': 'χιτών, ῶνος, ὁ', 'Part of Speech': 'Noun, Masculine', 'Transliteration': 'chitón', 'Phonetic Spelling': \"(khee-tone')\", 'Definition': 'a tunic', 'Usage': 'a tunic, garment, undergarment.'}, 'examples': [('μηδὲ δύο χιτῶνας μηδὲ ὑποδήματα', ' nor two tunics nor sandals'), ('ἐνδύσησθε δύο χιτῶνας ', ' put on two tunics'), ('διαρρήξας τοὺς χιτῶνας αὐτοῦ λέγει', ' having torn the garments of him says')]}), ('BibleHub', 'λάβῃ', {'concordances': {'Original Word': 'λαμβάνω', 'Part of Speech': 'Verb', 'Transliteration': 'lambanó', 'Phonetic Spelling': \"(lam-ban'-o)\", 'Definition': 'to take, receive', 'Usage': '(a) I receive, get, (b) I take, lay hold of.'}, 'examples': [('ὁ αἰτῶν λαμβάνει καὶ ὁ', ' who asks receives and he that'), ('ἀσθενείας ἡμῶν ἔλαβεν καὶ τὰς', ' infirmities of us he took and our'), ('ἐκβάλλετε δωρεὰν ἐλάβετε δωρεὰν δότε', ' cast out freely you received freely give')]}), ('BibleHub', 'οὐδὲ', {'concordances': {'Original Word': 'οὐδέ', 'Part of Speech': 'Conjunction,Negative', 'Transliteration': 'oude', 'Phonetic Spelling': \"(oo-deh')\", 'Definition': 'and not, neither', 'Usage': 'neither, nor, not even, and not.'}, 'examples': [('παραπτώματα αὐτῶν οὐδὲ ὁ πατὴρ', ' trespasses of them neither the Father'), ('οὐ διορύσσουσιν οὐδὲ κλέπτουσιν ', ' not do break in nor steal'), ('οὐ σπείρουσιν οὐδὲ θερίζουσιν οὐδὲ', ' not they sow nor do they reap nor')]})]\n",
                        "[]\n",
                        "[]\n"
                    ]
                }
            ],
            "source": [
                "for item in d:\n",
                "    print(item)\n",
                "    print(item)"
            ]
        },
        {
            "cell_type": "code",
            "execution_count": 54,
            "metadata": {},
            "outputs": [],
            "source": [
                "data = d[0]\n",
                "blanks = d[1]"
            ]
        },
        {
            "cell_type": "code",
            "execution_count": 53,
            "metadata": {},
            "outputs": [
                {
                    "name": "stdout",
                    "output_type": "stream",
                    "text": [
                        "μετ ́\n",
                        "δύο\n",
                        "ἱμάτιόν\n",
                        "χιτῶνα\n",
                        "λάβῃ\n",
                        "οὐδὲ\n"
                    ]
                }
            ],
            "source": [
                "for item in data:\n",
                "    print(item[1])"
            ]
        },
        {
            "cell_type": "code",
            "execution_count": 55,
            "metadata": {},
            "outputs": [
                {
                    "name": "stdout",
                    "output_type": "stream",
                    "text": [
                        "μετ ́\n"
                    ]
                },
                {
                    "ename": "IndexError",
                    "evalue": "list index out of range",
                    "output_type": "error",
                    "traceback": [
                        "\u001b[0;31m---------------------------------------------------------------------------\u001b[0m",
                        "\u001b[0;31mIndexError\u001b[0m                                Traceback (most recent call last)",
                        "\u001b[0;32m<ipython-input-55-9cf2c7aded09>\u001b[0m in \u001b[0;36m<module>\u001b[0;34m()\u001b[0m\n\u001b[0;32m----> 1\u001b[0;31m \u001b[0mproduce_material\u001b[0m\u001b[0;34m(\u001b[0m\u001b[0;34m\"didache\"\u001b[0m\u001b[0;34m,\u001b[0m \u001b[0mdata\u001b[0m\u001b[0;34m,\u001b[0m \u001b[0mblanks\u001b[0m\u001b[0;34m)\u001b[0m\u001b[0;34m\u001b[0m\u001b[0;34m\u001b[0m\u001b[0m\n\u001b[0m",
                        "\u001b[0;32m<ipython-input-20-caf09ea944d8>\u001b[0m in \u001b[0;36mproduce_material\u001b[0;34m(output_file_name, data, blanks)\u001b[0m\n\u001b[1;32m     21\u001b[0m                     \u001b[0;34m\"english\"\u001b[0m\u001b[0;34m:\u001b[0m \u001b[0mfetch_group_as_string\u001b[0m\u001b[0;34m(\u001b[0m\u001b[0;34m[\u001b[0m\u001b[0mtuple\u001b[0m\u001b[0;34m[\u001b[0m\u001b[0;36m1\u001b[0m\u001b[0;34m]\u001b[0m \u001b[0;32mfor\u001b[0m \u001b[0mtuple\u001b[0m \u001b[0;32min\u001b[0m \u001b[0mcurr\u001b[0m\u001b[0;34m[\u001b[0m\u001b[0;34m'examples'\u001b[0m\u001b[0;34m]\u001b[0m\u001b[0;34m]\u001b[0m\u001b[0;34m,\u001b[0m \u001b[0msingle_list\u001b[0m\u001b[0;34m=\u001b[0m\u001b[0;32mTrue\u001b[0m\u001b[0;34m)\u001b[0m\u001b[0;34m\u001b[0m\u001b[0;34m\u001b[0m\u001b[0m\n\u001b[1;32m     22\u001b[0m                 }\n\u001b[0;32m---> 23\u001b[0;31m                 \u001b[0mdc\u001b[0m\u001b[0;34m[\u001b[0m\u001b[0;34m\"context\"\u001b[0m\u001b[0;34m]\u001b[0m \u001b[0;34m=\u001b[0m \u001b[0mget_context_and_clean_up\u001b[0m\u001b[0;34m(\u001b[0m\u001b[0mitem\u001b[0m\u001b[0;34m[\u001b[0m\u001b[0;36m1\u001b[0m\u001b[0;34m]\u001b[0m\u001b[0;34m,\u001b[0m \u001b[0mwf\u001b[0m\u001b[0;34m)\u001b[0m\u001b[0;34m\u001b[0m\u001b[0;34m\u001b[0m\u001b[0m\n\u001b[0m\u001b[1;32m     24\u001b[0m                 \u001b[0mdc\u001b[0m\u001b[0;34m[\u001b[0m\u001b[0;34m\"original\"\u001b[0m\u001b[0;34m]\u001b[0m \u001b[0;34m=\u001b[0m \u001b[0mitem\u001b[0m\u001b[0;34m[\u001b[0m\u001b[0;36m1\u001b[0m\u001b[0;34m]\u001b[0m\u001b[0;34m\u001b[0m\u001b[0;34m\u001b[0m\u001b[0m\n\u001b[1;32m     25\u001b[0m                 \u001b[0mdc\u001b[0m\u001b[0;34m[\u001b[0m\u001b[0;34m\"source\"\u001b[0m\u001b[0;34m]\u001b[0m \u001b[0;34m=\u001b[0m \u001b[0mitem\u001b[0m\u001b[0;34m[\u001b[0m\u001b[0;36m0\u001b[0m\u001b[0;34m]\u001b[0m\u001b[0;34m\u001b[0m\u001b[0;34m\u001b[0m\u001b[0m\n",
                        "\u001b[0;32m<ipython-input-4-ae925f9787f7>\u001b[0m in \u001b[0;36mget_context_and_clean_up\u001b[0;34m(word, concordance)\u001b[0m\n\u001b[1;32m     18\u001b[0m \u001b[0;34m\u001b[0m\u001b[0m\n\u001b[1;32m     19\u001b[0m     \u001b[0;31m# split string and make chosen word bold\u001b[0m\u001b[0;34m\u001b[0m\u001b[0;34m\u001b[0m\u001b[0;34m\u001b[0m\u001b[0m\n\u001b[0;32m---> 20\u001b[0;31m     \u001b[0mline\u001b[0m\u001b[0;34m,\u001b[0m \u001b[0mbold_word\u001b[0m \u001b[0;34m=\u001b[0m \u001b[0mboldify_selected_word\u001b[0m\u001b[0;34m(\u001b[0m\u001b[0mcltk_normalize\u001b[0m\u001b[0;34m(\u001b[0m\u001b[0mword\u001b[0m\u001b[0;34m)\u001b[0m\u001b[0;34m,\u001b[0m \u001b[0mc\u001b[0m\u001b[0;34m[\u001b[0m\u001b[0;36m0\u001b[0m\u001b[0;34m]\u001b[0m\u001b[0;34m[\u001b[0m\u001b[0;36m6\u001b[0m\u001b[0;34m]\u001b[0m\u001b[0;34m)\u001b[0m\u001b[0;34m\u001b[0m\u001b[0;34m\u001b[0m\u001b[0m\n\u001b[0m\u001b[1;32m     21\u001b[0m     \u001b[0mword_list\u001b[0m \u001b[0;34m=\u001b[0m \u001b[0mline\u001b[0m\u001b[0;34m\u001b[0m\u001b[0;34m\u001b[0m\u001b[0m\n\u001b[1;32m     22\u001b[0m \u001b[0;34m\u001b[0m\u001b[0m\n",
                        "\u001b[0;31mIndexError\u001b[0m: list index out of range"
                    ]
                }
            ],
            "source": [
                "produce_material(\"didache\", data, blanks)"
            ]
        },
        {
            "cell_type": "code",
            "execution_count": null,
            "metadata": {},
            "outputs": [],
            "source": []
        }
    ],
    "metadata": {
        "interpreter": {
            "hash": "916dbcbb3f70747c44a77c7bcd40155683ae19c65e1c03b4aa3499c5328201f1"
        },
        "kernelspec": {
            "display_name": "Python 3.7.3 64-bit",
            "name": "python3"
        },
        "language_info": {
            "codemirror_mode": {
                "name": "ipython",
                "version": 3
            },
            "file_extension": ".py",
            "mimetype": "text/x-python",
            "name": "python",
            "nbconvert_exporter": "python",
            "pygments_lexer": "ipython3",
            "version": "3.7.3"
        },
        "orig_nbformat": 4
    },
    "nbformat": 4,
    "nbformat_minor": 2
}
