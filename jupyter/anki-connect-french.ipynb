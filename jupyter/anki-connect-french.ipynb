{
 "cells": [
  {
   "cell_type": "code",
   "execution_count": 1,
   "metadata": {},
   "outputs": [],
   "source": [
    "# VER TODO-LIST em README.md\n",
    "import re, os, string, csv\n",
    "import pandas as pd\n",
    "import json, time, urllib.request\n",
    "from reverso_context_api import Client\n",
    "from tools.reverso_tools import fetch_element_as_string, get_word_data\n",
    "from tools.tokenization import (get_examples, get_frequency,\n",
    "                                get_text, get_tokens)\n",
    "from requests.exceptions import MissingSchema\n",
    "import nltk\n",
    "import re"
   ]
  },
  {
   "cell_type": "code",
   "execution_count": 2,
   "metadata": {},
   "outputs": [],
   "source": [
    "pape, wf = get_text(\"textos/pape-des-fous.txt\")\n",
    "TRANSLATION_NUMBER = 3\n",
    "EXAMPLE_NUMBER = TRANSLATION_NUMBER\n",
    "INPUT_LANGUAGE = \"fr\", \"French\"\n",
    "OUTPUT_LANGUAGE = \"en\", \"English\"\n",
    "client = Client(INPUT_LANGUAGE[0], OUTPUT_LANGUAGE[0])"
   ]
  },
  {
   "cell_type": "code",
   "execution_count": 3,
   "metadata": {},
   "outputs": [],
   "source": [
    "# ways to perfect this function:\n",
    "# check whether the first word in the concordance example is it\n",
    "# if not, cut off this word (so as to remove incomplete words)\n",
    "# do the same to the last word of the sentence\n",
    "\n",
    "def boldify_selected_word(word, string):\n",
    "    string_l = string.split()\n",
    "    for index in range(len(string_l)):\n",
    "        if string_l[index].lower() == word.lower():\n",
    "            bold = \"<b>\"+word.lower()+\"</b>\"\n",
    "            string_l[index] = bold \n",
    "    return string_l, bold\n",
    "\n",
    "def get_context_and_clean_up(word, concordance):\n",
    "\n",
    "    # get word context from concordance\n",
    "    c = concordance.concordance_list((word))\n",
    "\n",
    "    # split string and make chosen word bold\n",
    "    line, bold_word = boldify_selected_word((word), c[0][6])\n",
    "    word_list = line\n",
    "\n",
    "    # remove first and last words of string, as they are sometimes incomplete\n",
    "    # and assert that the first and last \n",
    "    if word_list[0] not in (word, bold_word):\n",
    "        del word_list[0]\n",
    "        if word_list[0] in string.punctuation:\n",
    "            del word_list[0] \n",
    "    if word_list[len(word_list) - 1] not in (word, bold_word):\n",
    "        del word_list[len(word_list) - 1]\n",
    "\n",
    "    # get string with extra spaces\n",
    "    unfinished_string = \" \".join(word_list)\n",
    "    \n",
    "    # remove unnecessary spaces from string\n",
    "    trailing_spaces_start = r\"^\\s+\"\n",
    "    trailing_spaces_end = r\"\\s+$\"\n",
    "\n",
    "    cleaned_up_pre = re.sub(r'\\s([?.!,:;\"](?:\\s|$))', r'\\1', unfinished_string)\n",
    "    cleaned_up_start = re.sub(trailing_spaces_start, \"\", cleaned_up_pre)\n",
    "    final_string = re.sub(trailing_spaces_end, \"\", cleaned_up_start)\n",
    "    \n",
    "    return final_string\n",
    "\n",
    "def clean_up(string):\n",
    "    trailing_spaces_start = r\"^\\s+\"\n",
    "    trailing_spaces_end = r\"\\s+$\"\n",
    "\n",
    "    cleaned_up_pre = re.sub(r'([?.!,:;\"](?:\\s|$))', \"\", string.split()[0])\n",
    "    cleaned_up_start = re.sub(trailing_spaces_start, \"\", cleaned_up_pre)\n",
    "    cleaned_up = re.sub(trailing_spaces_end, \"\", cleaned_up_start)\n",
    "\n",
    "    return cleaned_up"
   ]
  },
  {
   "cell_type": "code",
   "execution_count": 4,
   "metadata": {},
   "outputs": [],
   "source": [
    "tokens, token_set, phrases = get_tokens(pape)\n",
    "frequency = get_frequency(tokens)\n",
    "# cltk_nlp = NLP(language=\"grc\")\n",
    "# cltk_doc = cltk_nlp.analyze(songs)\n",
    "\n",
    "wordlist = []\n",
    "for pair in frequency:\n",
    "    token = pair[0]\n",
    "    wordlist.append(token)"
   ]
  },
  {
   "cell_type": "code",
   "execution_count": 5,
   "metadata": {},
   "outputs": [
    {
     "data": {
      "text/plain": [
       "79"
      ]
     },
     "execution_count": 5,
     "metadata": {},
     "output_type": "execute_result"
    }
   ],
   "source": [
    "len(wordlist)"
   ]
  },
  {
   "cell_type": "code",
   "execution_count": 7,
   "metadata": {},
   "outputs": [
    {
     "name": "stdout",
     "output_type": "stream",
     "text": [
      "wait...\n",
      "wait...\n",
      "wait...\n",
      "wait...\n",
      "wait...\n",
      "wait...\n",
      "wait...\n",
      "wait...\n",
      "wait...\n",
      "wait...\n",
      "wait...\n",
      "wait...\n",
      "wait...\n",
      "wait...\n",
      "wait...\n"
     ]
    }
   ],
   "source": [
    "pre_material = []\n",
    "iterations = 0\n",
    "for word in wordlist:\n",
    "    pre_material.append((get_word_data(word, 3, 3), get_context_and_clean_up(word, wf)))\n",
    "    iterations += 2\n",
    "    if iterations >= 10:\n",
    "        print(\"wait...\")\n",
    "        time.sleep(30)\n",
    "        iterations = 0"
   ]
  },
  {
   "cell_type": "code",
   "execution_count": 21,
   "metadata": {},
   "outputs": [
    {
     "ename": "TypeError",
     "evalue": "'bool' object is not subscriptable",
     "output_type": "error",
     "traceback": [
      "\u001b[0;31m---------------------------------------------------------------------------\u001b[0m",
      "\u001b[0;31mTypeError\u001b[0m                                 Traceback (most recent call last)",
      "\u001b[0;32m<ipython-input-21-c1fb08980ba8>\u001b[0m in \u001b[0;36m<module>\u001b[0;34m()\u001b[0m\n\u001b[1;32m      3\u001b[0m     \u001b[0mcontext\u001b[0m \u001b[0;34m=\u001b[0m \u001b[0mpre_material\u001b[0m\u001b[0;34m[\u001b[0m\u001b[0mi\u001b[0m\u001b[0;34m]\u001b[0m\u001b[0;34m[\u001b[0m\u001b[0;36m1\u001b[0m\u001b[0;34m]\u001b[0m\u001b[0;34m\u001b[0m\u001b[0;34m\u001b[0m\u001b[0m\n\u001b[1;32m      4\u001b[0m     md = {\n\u001b[0;32m----> 5\u001b[0;31m         \u001b[0;34m\"name\"\u001b[0m\u001b[0;34m:\u001b[0m\u001b[0mdata\u001b[0m\u001b[0;34m[\u001b[0m\u001b[0;34m\"name\"\u001b[0m\u001b[0;34m]\u001b[0m\u001b[0;34m,\u001b[0m\u001b[0;34m\u001b[0m\u001b[0;34m\u001b[0m\u001b[0m\n\u001b[0m\u001b[1;32m      6\u001b[0m         \u001b[0;34m\"translations\"\u001b[0m\u001b[0;34m:\u001b[0m \u001b[0mfetch_element_as_string\u001b[0m\u001b[0;34m(\u001b[0m\u001b[0mdata\u001b[0m\u001b[0;34m,\u001b[0m\u001b[0;34m\"translations\"\u001b[0m\u001b[0;34m)\u001b[0m\u001b[0;34m,\u001b[0m\u001b[0;34m\u001b[0m\u001b[0;34m\u001b[0m\u001b[0m\n\u001b[1;32m      7\u001b[0m         \u001b[0;34m\"french\"\u001b[0m\u001b[0;34m:\u001b[0m \u001b[0mfetch_element_as_string\u001b[0m\u001b[0;34m(\u001b[0m\u001b[0mdata\u001b[0m\u001b[0;34m,\u001b[0m \u001b[0;34m\"input phrases\"\u001b[0m\u001b[0;34m)\u001b[0m\u001b[0;34m,\u001b[0m\u001b[0;34m\u001b[0m\u001b[0;34m\u001b[0m\u001b[0m\n",
      "\u001b[0;31mTypeError\u001b[0m: 'bool' object is not subscriptable"
     ]
    }
   ],
   "source": [
    "for i in range(len(pre_material) - 1):\n",
    "    data = pre_material[i][0]\n",
    "    context = pre_material[i][1]\n",
    "    md = {\n",
    "        \"name\":fetch_element_as_string(data,\"name\"),\n",
    "        \"translations\": fetch_element_as_string(data,\"translations\"),\n",
    "        \"french\": fetch_element_as_string(data, \"input phrases\"),\n",
    "        \"english\": fetch_element_as_string(data, \"output phrases\"),\n",
    "        \"context\": context\n",
    "    }\n",
    "    dataframe = pd.DataFrame.from_dict(md, orient=\"index\")\n",
    "    dataframe = dataframe.transpose()\n",
    "    dataframe.to_csv(\"french_output.csv\", mode=\"a\", header=False, index=False)\n",
    "    "
   ]
  },
  {
   "cell_type": "code",
   "execution_count": 6,
   "metadata": {},
   "outputs": [
    {
     "data": {
      "text/plain": [
       "{'name': 'petite',\n",
       " 'translations': ['small', 'little', 'smaller'],\n",
       " 'examples': {'input phrases': [\"J'aimerais faire une petite correction.\",\n",
       "   \"J'aimerai vous présenter une petite...\",\n",
       "   'Utilisez toujours une petite quantité de pâte.'],\n",
       "  'output phrases': ['I 21 would just like to make a small correction.',\n",
       "   \"I'd like to introduce you a small tablet...\",\n",
       "   'Use always a little amount of dough by time.']}}"
      ]
     },
     "execution_count": 6,
     "metadata": {},
     "output_type": "execute_result"
    }
   ],
   "source": [
    "get_word_data(wordlist[0], 3,3)"
   ]
  },
  {
   "cell_type": "code",
   "execution_count": null,
   "metadata": {},
   "outputs": [],
   "source": []
  }
 ],
 "metadata": {
  "interpreter": {
   "hash": "916dbcbb3f70747c44a77c7bcd40155683ae19c65e1c03b4aa3499c5328201f1"
  },
  "kernelspec": {
   "display_name": "Python 3 (ipykernel)",
   "language": "python",
   "name": "python3"
  },
  "language_info": {
   "codemirror_mode": {
    "name": "ipython",
    "version": 3
   },
   "file_extension": ".py",
   "mimetype": "text/x-python",
   "name": "python",
   "nbconvert_exporter": "python",
   "pygments_lexer": "ipython3",
   "version": "3.10.6"
  }
 },
 "nbformat": 4,
 "nbformat_minor": 4
}
